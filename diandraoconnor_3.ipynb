{
 "cells": [
  {
   "attachments": {},
   "cell_type": "markdown",
   "metadata": {},
   "source": [
    "# Diandra O'Connor Module 4 Project  2/4/23\n",
    "\n",
    "### Domain: gymnastics"
   ]
  },
  {
   "attachments": {},
   "cell_type": "markdown",
   "metadata": {},
   "source": [
    "## Create a gymnastics DataFrame from a dictionary"
   ]
  },
  {
   "cell_type": "code",
   "execution_count": 1,
   "metadata": {},
   "outputs": [
    {
     "data": {
      "text/html": [
       "<div>\n",
       "<style scoped>\n",
       "    .dataframe tbody tr th:only-of-type {\n",
       "        vertical-align: middle;\n",
       "    }\n",
       "\n",
       "    .dataframe tbody tr th {\n",
       "        vertical-align: top;\n",
       "    }\n",
       "\n",
       "    .dataframe thead th {\n",
       "        text-align: right;\n",
       "    }\n",
       "</style>\n",
       "<table border=\"1\" class=\"dataframe\">\n",
       "  <thead>\n",
       "    <tr style=\"text-align: right;\">\n",
       "      <th></th>\n",
       "      <th>Amanda</th>\n",
       "      <th>Natalie</th>\n",
       "      <th>Jamie</th>\n",
       "      <th>Katie</th>\n",
       "    </tr>\n",
       "  </thead>\n",
       "  <tbody>\n",
       "    <tr>\n",
       "      <th>0</th>\n",
       "      <td>9.850</td>\n",
       "      <td>9.825</td>\n",
       "      <td>9.90</td>\n",
       "      <td>9.850</td>\n",
       "    </tr>\n",
       "    <tr>\n",
       "      <th>1</th>\n",
       "      <td>9.900</td>\n",
       "      <td>9.850</td>\n",
       "      <td>9.80</td>\n",
       "      <td>9.900</td>\n",
       "    </tr>\n",
       "    <tr>\n",
       "      <th>2</th>\n",
       "      <td>9.775</td>\n",
       "      <td>9.850</td>\n",
       "      <td>9.75</td>\n",
       "      <td>9.875</td>\n",
       "    </tr>\n",
       "    <tr>\n",
       "      <th>3</th>\n",
       "      <td>9.875</td>\n",
       "      <td>9.900</td>\n",
       "      <td>9.90</td>\n",
       "      <td>9.850</td>\n",
       "    </tr>\n",
       "  </tbody>\n",
       "</table>\n",
       "</div>"
      ],
      "text/plain": [
       "   Amanda  Natalie  Jamie  Katie\n",
       "0   9.850    9.825   9.90  9.850\n",
       "1   9.900    9.850   9.80  9.900\n",
       "2   9.775    9.850   9.75  9.875\n",
       "3   9.875    9.900   9.90  9.850"
      ]
     },
     "execution_count": 1,
     "metadata": {},
     "output_type": "execute_result"
    }
   ],
   "source": [
    "import pandas as pd\n",
    "\n",
    "scores_dict = {'Amanda': [9.85, 9.9, 9.775, 9.875], 'Natalie': [9.825, 9.85, 9.85, 9.9], 'Jamie': [9.9, 9.8, 9.75, 9.9], 'Katie': [9.85, 9.9, 9.875, 9.85]}\n",
    "\n",
    "scores = pd.DataFrame(scores_dict)\n",
    "\n",
    "scores"
   ]
  },
  {
   "attachments": {},
   "cell_type": "markdown",
   "metadata": {},
   "source": [
    "## Create a custom index"
   ]
  },
  {
   "cell_type": "code",
   "execution_count": 2,
   "metadata": {},
   "outputs": [
    {
     "data": {
      "text/html": [
       "<div>\n",
       "<style scoped>\n",
       "    .dataframe tbody tr th:only-of-type {\n",
       "        vertical-align: middle;\n",
       "    }\n",
       "\n",
       "    .dataframe tbody tr th {\n",
       "        vertical-align: top;\n",
       "    }\n",
       "\n",
       "    .dataframe thead th {\n",
       "        text-align: right;\n",
       "    }\n",
       "</style>\n",
       "<table border=\"1\" class=\"dataframe\">\n",
       "  <thead>\n",
       "    <tr style=\"text-align: right;\">\n",
       "      <th></th>\n",
       "      <th>Amanda</th>\n",
       "      <th>Natalie</th>\n",
       "      <th>Jamie</th>\n",
       "      <th>Katie</th>\n",
       "    </tr>\n",
       "  </thead>\n",
       "  <tbody>\n",
       "    <tr>\n",
       "      <th>Vault</th>\n",
       "      <td>9.850</td>\n",
       "      <td>9.825</td>\n",
       "      <td>9.90</td>\n",
       "      <td>9.850</td>\n",
       "    </tr>\n",
       "    <tr>\n",
       "      <th>Bars</th>\n",
       "      <td>9.900</td>\n",
       "      <td>9.850</td>\n",
       "      <td>9.80</td>\n",
       "      <td>9.900</td>\n",
       "    </tr>\n",
       "    <tr>\n",
       "      <th>Beam</th>\n",
       "      <td>9.775</td>\n",
       "      <td>9.850</td>\n",
       "      <td>9.75</td>\n",
       "      <td>9.875</td>\n",
       "    </tr>\n",
       "    <tr>\n",
       "      <th>Floor</th>\n",
       "      <td>9.875</td>\n",
       "      <td>9.900</td>\n",
       "      <td>9.90</td>\n",
       "      <td>9.850</td>\n",
       "    </tr>\n",
       "  </tbody>\n",
       "</table>\n",
       "</div>"
      ],
      "text/plain": [
       "       Amanda  Natalie  Jamie  Katie\n",
       "Vault   9.850    9.825   9.90  9.850\n",
       "Bars    9.900    9.850   9.80  9.900\n",
       "Beam    9.775    9.850   9.75  9.875\n",
       "Floor   9.875    9.900   9.90  9.850"
      ]
     },
     "execution_count": 2,
     "metadata": {},
     "output_type": "execute_result"
    }
   ],
   "source": [
    "scores.index = ['Vault', 'Bars', 'Beam', 'Floor']\n",
    "\n",
    "scores"
   ]
  },
  {
   "cell_type": "code",
   "execution_count": 3,
   "metadata": {},
   "outputs": [
    {
     "data": {
      "text/plain": [
       "Vault    9.850\n",
       "Bars     9.900\n",
       "Beam     9.875\n",
       "Floor    9.850\n",
       "Name: Katie, dtype: float64"
      ]
     },
     "execution_count": 3,
     "metadata": {},
     "output_type": "execute_result"
    }
   ],
   "source": [
    "scores['Katie']"
   ]
  },
  {
   "cell_type": "code",
   "execution_count": 4,
   "metadata": {},
   "outputs": [
    {
     "data": {
      "text/plain": [
       "Vault    9.825\n",
       "Bars     9.850\n",
       "Beam     9.850\n",
       "Floor    9.900\n",
       "Name: Natalie, dtype: float64"
      ]
     },
     "execution_count": 4,
     "metadata": {},
     "output_type": "execute_result"
    }
   ],
   "source": [
    "scores.Natalie"
   ]
  },
  {
   "attachments": {},
   "cell_type": "markdown",
   "metadata": {},
   "source": [
    "## Accessing Rows (loc, iloc)"
   ]
  },
  {
   "cell_type": "code",
   "execution_count": 5,
   "metadata": {},
   "outputs": [
    {
     "data": {
      "text/plain": [
       "Amanda     9.850\n",
       "Natalie    9.825\n",
       "Jamie      9.900\n",
       "Katie      9.850\n",
       "Name: Vault, dtype: float64"
      ]
     },
     "execution_count": 5,
     "metadata": {},
     "output_type": "execute_result"
    }
   ],
   "source": [
    "scores.loc['Vault']"
   ]
  },
  {
   "cell_type": "code",
   "execution_count": 6,
   "metadata": {},
   "outputs": [
    {
     "data": {
      "text/plain": [
       "Amanda     9.90\n",
       "Natalie    9.85\n",
       "Jamie      9.80\n",
       "Katie      9.90\n",
       "Name: Bars, dtype: float64"
      ]
     },
     "execution_count": 6,
     "metadata": {},
     "output_type": "execute_result"
    }
   ],
   "source": [
    "scores.iloc[1]"
   ]
  },
  {
   "cell_type": "code",
   "execution_count": 7,
   "metadata": {},
   "outputs": [
    {
     "data": {
      "text/html": [
       "<div>\n",
       "<style scoped>\n",
       "    .dataframe tbody tr th:only-of-type {\n",
       "        vertical-align: middle;\n",
       "    }\n",
       "\n",
       "    .dataframe tbody tr th {\n",
       "        vertical-align: top;\n",
       "    }\n",
       "\n",
       "    .dataframe thead th {\n",
       "        text-align: right;\n",
       "    }\n",
       "</style>\n",
       "<table border=\"1\" class=\"dataframe\">\n",
       "  <thead>\n",
       "    <tr style=\"text-align: right;\">\n",
       "      <th></th>\n",
       "      <th>Amanda</th>\n",
       "      <th>Natalie</th>\n",
       "      <th>Jamie</th>\n",
       "      <th>Katie</th>\n",
       "    </tr>\n",
       "  </thead>\n",
       "  <tbody>\n",
       "    <tr>\n",
       "      <th>Vault</th>\n",
       "      <td>9.850</td>\n",
       "      <td>9.825</td>\n",
       "      <td>9.90</td>\n",
       "      <td>9.850</td>\n",
       "    </tr>\n",
       "    <tr>\n",
       "      <th>Bars</th>\n",
       "      <td>9.900</td>\n",
       "      <td>9.850</td>\n",
       "      <td>9.80</td>\n",
       "      <td>9.900</td>\n",
       "    </tr>\n",
       "    <tr>\n",
       "      <th>Beam</th>\n",
       "      <td>9.775</td>\n",
       "      <td>9.850</td>\n",
       "      <td>9.75</td>\n",
       "      <td>9.875</td>\n",
       "    </tr>\n",
       "  </tbody>\n",
       "</table>\n",
       "</div>"
      ],
      "text/plain": [
       "       Amanda  Natalie  Jamie  Katie\n",
       "Vault   9.850    9.825   9.90  9.850\n",
       "Bars    9.900    9.850   9.80  9.900\n",
       "Beam    9.775    9.850   9.75  9.875"
      ]
     },
     "execution_count": 7,
     "metadata": {},
     "output_type": "execute_result"
    }
   ],
   "source": [
    "scores.loc['Vault': 'Beam']"
   ]
  },
  {
   "cell_type": "code",
   "execution_count": 8,
   "metadata": {},
   "outputs": [
    {
     "data": {
      "text/html": [
       "<div>\n",
       "<style scoped>\n",
       "    .dataframe tbody tr th:only-of-type {\n",
       "        vertical-align: middle;\n",
       "    }\n",
       "\n",
       "    .dataframe tbody tr th {\n",
       "        vertical-align: top;\n",
       "    }\n",
       "\n",
       "    .dataframe thead th {\n",
       "        text-align: right;\n",
       "    }\n",
       "</style>\n",
       "<table border=\"1\" class=\"dataframe\">\n",
       "  <thead>\n",
       "    <tr style=\"text-align: right;\">\n",
       "      <th></th>\n",
       "      <th>Amanda</th>\n",
       "      <th>Natalie</th>\n",
       "      <th>Jamie</th>\n",
       "      <th>Katie</th>\n",
       "    </tr>\n",
       "  </thead>\n",
       "  <tbody>\n",
       "    <tr>\n",
       "      <th>Vault</th>\n",
       "      <td>9.85</td>\n",
       "      <td>9.825</td>\n",
       "      <td>9.9</td>\n",
       "      <td>9.85</td>\n",
       "    </tr>\n",
       "    <tr>\n",
       "      <th>Bars</th>\n",
       "      <td>9.90</td>\n",
       "      <td>9.850</td>\n",
       "      <td>9.8</td>\n",
       "      <td>9.90</td>\n",
       "    </tr>\n",
       "  </tbody>\n",
       "</table>\n",
       "</div>"
      ],
      "text/plain": [
       "       Amanda  Natalie  Jamie  Katie\n",
       "Vault    9.85    9.825    9.9   9.85\n",
       "Bars     9.90    9.850    9.8   9.90"
      ]
     },
     "execution_count": 8,
     "metadata": {},
     "output_type": "execute_result"
    }
   ],
   "source": [
    "scores.iloc[0:2]"
   ]
  },
  {
   "attachments": {},
   "cell_type": "markdown",
   "metadata": {},
   "source": [
    "## Accessing Subsets (at, iat)"
   ]
  },
  {
   "attachments": {},
   "cell_type": "markdown",
   "metadata": {},
   "source": [
    "### Katie's floor score"
   ]
  },
  {
   "cell_type": "code",
   "execution_count": 9,
   "metadata": {},
   "outputs": [
    {
     "data": {
      "text/plain": [
       "9.85"
      ]
     },
     "execution_count": 9,
     "metadata": {},
     "output_type": "execute_result"
    }
   ],
   "source": [
    "scores.at['Floor', 'Katie']"
   ]
  },
  {
   "attachments": {},
   "cell_type": "markdown",
   "metadata": {},
   "source": [
    "### Natalie's bars score"
   ]
  },
  {
   "cell_type": "code",
   "execution_count": 10,
   "metadata": {},
   "outputs": [
    {
     "data": {
      "text/plain": [
       "9.8"
      ]
     },
     "execution_count": 10,
     "metadata": {},
     "output_type": "execute_result"
    }
   ],
   "source": [
    "scores.iat[1,2]"
   ]
  },
  {
   "attachments": {},
   "cell_type": "markdown",
   "metadata": {},
   "source": [
    "## Describe by column"
   ]
  },
  {
   "cell_type": "code",
   "execution_count": 11,
   "metadata": {},
   "outputs": [
    {
     "data": {
      "text/html": [
       "<div>\n",
       "<style scoped>\n",
       "    .dataframe tbody tr th:only-of-type {\n",
       "        vertical-align: middle;\n",
       "    }\n",
       "\n",
       "    .dataframe tbody tr th {\n",
       "        vertical-align: top;\n",
       "    }\n",
       "\n",
       "    .dataframe thead th {\n",
       "        text-align: right;\n",
       "    }\n",
       "</style>\n",
       "<table border=\"1\" class=\"dataframe\">\n",
       "  <thead>\n",
       "    <tr style=\"text-align: right;\">\n",
       "      <th></th>\n",
       "      <th>Amanda</th>\n",
       "      <th>Natalie</th>\n",
       "      <th>Jamie</th>\n",
       "      <th>Katie</th>\n",
       "    </tr>\n",
       "  </thead>\n",
       "  <tbody>\n",
       "    <tr>\n",
       "      <th>count</th>\n",
       "      <td>4.000000</td>\n",
       "      <td>4.000000</td>\n",
       "      <td>4.0000</td>\n",
       "      <td>4.000000</td>\n",
       "    </tr>\n",
       "    <tr>\n",
       "      <th>mean</th>\n",
       "      <td>9.850000</td>\n",
       "      <td>9.856250</td>\n",
       "      <td>9.8375</td>\n",
       "      <td>9.868750</td>\n",
       "    </tr>\n",
       "    <tr>\n",
       "      <th>std</th>\n",
       "      <td>0.054006</td>\n",
       "      <td>0.031458</td>\n",
       "      <td>0.0750</td>\n",
       "      <td>0.023936</td>\n",
       "    </tr>\n",
       "    <tr>\n",
       "      <th>min</th>\n",
       "      <td>9.775000</td>\n",
       "      <td>9.825000</td>\n",
       "      <td>9.7500</td>\n",
       "      <td>9.850000</td>\n",
       "    </tr>\n",
       "    <tr>\n",
       "      <th>25%</th>\n",
       "      <td>9.831250</td>\n",
       "      <td>9.843750</td>\n",
       "      <td>9.7875</td>\n",
       "      <td>9.850000</td>\n",
       "    </tr>\n",
       "    <tr>\n",
       "      <th>50%</th>\n",
       "      <td>9.862500</td>\n",
       "      <td>9.850000</td>\n",
       "      <td>9.8500</td>\n",
       "      <td>9.862500</td>\n",
       "    </tr>\n",
       "    <tr>\n",
       "      <th>75%</th>\n",
       "      <td>9.881250</td>\n",
       "      <td>9.862500</td>\n",
       "      <td>9.9000</td>\n",
       "      <td>9.881250</td>\n",
       "    </tr>\n",
       "    <tr>\n",
       "      <th>max</th>\n",
       "      <td>9.900000</td>\n",
       "      <td>9.900000</td>\n",
       "      <td>9.9000</td>\n",
       "      <td>9.900000</td>\n",
       "    </tr>\n",
       "  </tbody>\n",
       "</table>\n",
       "</div>"
      ],
      "text/plain": [
       "         Amanda   Natalie   Jamie     Katie\n",
       "count  4.000000  4.000000  4.0000  4.000000\n",
       "mean   9.850000  9.856250  9.8375  9.868750\n",
       "std    0.054006  0.031458  0.0750  0.023936\n",
       "min    9.775000  9.825000  9.7500  9.850000\n",
       "25%    9.831250  9.843750  9.7875  9.850000\n",
       "50%    9.862500  9.850000  9.8500  9.862500\n",
       "75%    9.881250  9.862500  9.9000  9.881250\n",
       "max    9.900000  9.900000  9.9000  9.900000"
      ]
     },
     "execution_count": 11,
     "metadata": {},
     "output_type": "execute_result"
    }
   ],
   "source": [
    "scores.describe()"
   ]
  },
  {
   "attachments": {},
   "cell_type": "markdown",
   "metadata": {},
   "source": [
    "### Controlling the precision"
   ]
  },
  {
   "cell_type": "code",
   "execution_count": 12,
   "metadata": {},
   "outputs": [
    {
     "data": {
      "text/html": [
       "<div>\n",
       "<style scoped>\n",
       "    .dataframe tbody tr th:only-of-type {\n",
       "        vertical-align: middle;\n",
       "    }\n",
       "\n",
       "    .dataframe tbody tr th {\n",
       "        vertical-align: top;\n",
       "    }\n",
       "\n",
       "    .dataframe thead th {\n",
       "        text-align: right;\n",
       "    }\n",
       "</style>\n",
       "<table border=\"1\" class=\"dataframe\">\n",
       "  <thead>\n",
       "    <tr style=\"text-align: right;\">\n",
       "      <th></th>\n",
       "      <th>Amanda</th>\n",
       "      <th>Natalie</th>\n",
       "      <th>Jamie</th>\n",
       "      <th>Katie</th>\n",
       "    </tr>\n",
       "  </thead>\n",
       "  <tbody>\n",
       "    <tr>\n",
       "      <th>count</th>\n",
       "      <td>4.000</td>\n",
       "      <td>4.000</td>\n",
       "      <td>4.000</td>\n",
       "      <td>4.000</td>\n",
       "    </tr>\n",
       "    <tr>\n",
       "      <th>mean</th>\n",
       "      <td>9.850</td>\n",
       "      <td>9.856</td>\n",
       "      <td>9.838</td>\n",
       "      <td>9.869</td>\n",
       "    </tr>\n",
       "    <tr>\n",
       "      <th>std</th>\n",
       "      <td>0.054</td>\n",
       "      <td>0.031</td>\n",
       "      <td>0.075</td>\n",
       "      <td>0.024</td>\n",
       "    </tr>\n",
       "    <tr>\n",
       "      <th>min</th>\n",
       "      <td>9.775</td>\n",
       "      <td>9.825</td>\n",
       "      <td>9.750</td>\n",
       "      <td>9.850</td>\n",
       "    </tr>\n",
       "    <tr>\n",
       "      <th>25%</th>\n",
       "      <td>9.831</td>\n",
       "      <td>9.844</td>\n",
       "      <td>9.788</td>\n",
       "      <td>9.850</td>\n",
       "    </tr>\n",
       "    <tr>\n",
       "      <th>50%</th>\n",
       "      <td>9.863</td>\n",
       "      <td>9.850</td>\n",
       "      <td>9.850</td>\n",
       "      <td>9.863</td>\n",
       "    </tr>\n",
       "    <tr>\n",
       "      <th>75%</th>\n",
       "      <td>9.881</td>\n",
       "      <td>9.863</td>\n",
       "      <td>9.900</td>\n",
       "      <td>9.881</td>\n",
       "    </tr>\n",
       "    <tr>\n",
       "      <th>max</th>\n",
       "      <td>9.900</td>\n",
       "      <td>9.900</td>\n",
       "      <td>9.900</td>\n",
       "      <td>9.900</td>\n",
       "    </tr>\n",
       "  </tbody>\n",
       "</table>\n",
       "</div>"
      ],
      "text/plain": [
       "       Amanda  Natalie  Jamie  Katie\n",
       "count   4.000    4.000  4.000  4.000\n",
       "mean    9.850    9.856  9.838  9.869\n",
       "std     0.054    0.031  0.075  0.024\n",
       "min     9.775    9.825  9.750  9.850\n",
       "25%     9.831    9.844  9.788  9.850\n",
       "50%     9.863    9.850  9.850  9.863\n",
       "75%     9.881    9.863  9.900  9.881\n",
       "max     9.900    9.900  9.900  9.900"
      ]
     },
     "execution_count": 12,
     "metadata": {},
     "output_type": "execute_result"
    }
   ],
   "source": [
    "pd.set_option('display.precision', 3)\n",
    "\n",
    "scores.describe()"
   ]
  },
  {
   "attachments": {},
   "cell_type": "markdown",
   "metadata": {},
   "source": [
    "## Transpose (rows <--> columns)"
   ]
  },
  {
   "cell_type": "code",
   "execution_count": 13,
   "metadata": {},
   "outputs": [
    {
     "data": {
      "text/plain": [
       "Amanda     9.850\n",
       "Natalie    9.856\n",
       "Jamie      9.838\n",
       "Katie      9.869\n",
       "dtype: float64"
      ]
     },
     "execution_count": 13,
     "metadata": {},
     "output_type": "execute_result"
    }
   ],
   "source": [
    "scores.mean()"
   ]
  },
  {
   "cell_type": "code",
   "execution_count": 14,
   "metadata": {},
   "outputs": [
    {
     "data": {
      "text/html": [
       "<div>\n",
       "<style scoped>\n",
       "    .dataframe tbody tr th:only-of-type {\n",
       "        vertical-align: middle;\n",
       "    }\n",
       "\n",
       "    .dataframe tbody tr th {\n",
       "        vertical-align: top;\n",
       "    }\n",
       "\n",
       "    .dataframe thead th {\n",
       "        text-align: right;\n",
       "    }\n",
       "</style>\n",
       "<table border=\"1\" class=\"dataframe\">\n",
       "  <thead>\n",
       "    <tr style=\"text-align: right;\">\n",
       "      <th></th>\n",
       "      <th>Vault</th>\n",
       "      <th>Bars</th>\n",
       "      <th>Beam</th>\n",
       "      <th>Floor</th>\n",
       "    </tr>\n",
       "  </thead>\n",
       "  <tbody>\n",
       "    <tr>\n",
       "      <th>Amanda</th>\n",
       "      <td>9.850</td>\n",
       "      <td>9.90</td>\n",
       "      <td>9.775</td>\n",
       "      <td>9.875</td>\n",
       "    </tr>\n",
       "    <tr>\n",
       "      <th>Natalie</th>\n",
       "      <td>9.825</td>\n",
       "      <td>9.85</td>\n",
       "      <td>9.850</td>\n",
       "      <td>9.900</td>\n",
       "    </tr>\n",
       "    <tr>\n",
       "      <th>Jamie</th>\n",
       "      <td>9.900</td>\n",
       "      <td>9.80</td>\n",
       "      <td>9.750</td>\n",
       "      <td>9.900</td>\n",
       "    </tr>\n",
       "    <tr>\n",
       "      <th>Katie</th>\n",
       "      <td>9.850</td>\n",
       "      <td>9.90</td>\n",
       "      <td>9.875</td>\n",
       "      <td>9.850</td>\n",
       "    </tr>\n",
       "  </tbody>\n",
       "</table>\n",
       "</div>"
      ],
      "text/plain": [
       "         Vault  Bars   Beam  Floor\n",
       "Amanda   9.850  9.90  9.775  9.875\n",
       "Natalie  9.825  9.85  9.850  9.900\n",
       "Jamie    9.900  9.80  9.750  9.900\n",
       "Katie    9.850  9.90  9.875  9.850"
      ]
     },
     "execution_count": 14,
     "metadata": {},
     "output_type": "execute_result"
    }
   ],
   "source": [
    "scores.T"
   ]
  },
  {
   "cell_type": "code",
   "execution_count": 15,
   "metadata": {},
   "outputs": [
    {
     "data": {
      "text/html": [
       "<div>\n",
       "<style scoped>\n",
       "    .dataframe tbody tr th:only-of-type {\n",
       "        vertical-align: middle;\n",
       "    }\n",
       "\n",
       "    .dataframe tbody tr th {\n",
       "        vertical-align: top;\n",
       "    }\n",
       "\n",
       "    .dataframe thead th {\n",
       "        text-align: right;\n",
       "    }\n",
       "</style>\n",
       "<table border=\"1\" class=\"dataframe\">\n",
       "  <thead>\n",
       "    <tr style=\"text-align: right;\">\n",
       "      <th></th>\n",
       "      <th>Vault</th>\n",
       "      <th>Bars</th>\n",
       "      <th>Beam</th>\n",
       "      <th>Floor</th>\n",
       "    </tr>\n",
       "  </thead>\n",
       "  <tbody>\n",
       "    <tr>\n",
       "      <th>count</th>\n",
       "      <td>4.000</td>\n",
       "      <td>4.000</td>\n",
       "      <td>4.000</td>\n",
       "      <td>4.000</td>\n",
       "    </tr>\n",
       "    <tr>\n",
       "      <th>mean</th>\n",
       "      <td>9.856</td>\n",
       "      <td>9.863</td>\n",
       "      <td>9.812</td>\n",
       "      <td>9.881</td>\n",
       "    </tr>\n",
       "    <tr>\n",
       "      <th>std</th>\n",
       "      <td>0.031</td>\n",
       "      <td>0.048</td>\n",
       "      <td>0.060</td>\n",
       "      <td>0.024</td>\n",
       "    </tr>\n",
       "    <tr>\n",
       "      <th>min</th>\n",
       "      <td>9.825</td>\n",
       "      <td>9.800</td>\n",
       "      <td>9.750</td>\n",
       "      <td>9.850</td>\n",
       "    </tr>\n",
       "    <tr>\n",
       "      <th>25%</th>\n",
       "      <td>9.844</td>\n",
       "      <td>9.838</td>\n",
       "      <td>9.769</td>\n",
       "      <td>9.869</td>\n",
       "    </tr>\n",
       "    <tr>\n",
       "      <th>50%</th>\n",
       "      <td>9.850</td>\n",
       "      <td>9.875</td>\n",
       "      <td>9.812</td>\n",
       "      <td>9.887</td>\n",
       "    </tr>\n",
       "    <tr>\n",
       "      <th>75%</th>\n",
       "      <td>9.863</td>\n",
       "      <td>9.900</td>\n",
       "      <td>9.856</td>\n",
       "      <td>9.900</td>\n",
       "    </tr>\n",
       "    <tr>\n",
       "      <th>max</th>\n",
       "      <td>9.900</td>\n",
       "      <td>9.900</td>\n",
       "      <td>9.875</td>\n",
       "      <td>9.900</td>\n",
       "    </tr>\n",
       "  </tbody>\n",
       "</table>\n",
       "</div>"
      ],
      "text/plain": [
       "       Vault   Bars   Beam  Floor\n",
       "count  4.000  4.000  4.000  4.000\n",
       "mean   9.856  9.863  9.812  9.881\n",
       "std    0.031  0.048  0.060  0.024\n",
       "min    9.825  9.800  9.750  9.850\n",
       "25%    9.844  9.838  9.769  9.869\n",
       "50%    9.850  9.875  9.812  9.887\n",
       "75%    9.863  9.900  9.856  9.900\n",
       "max    9.900  9.900  9.875  9.900"
      ]
     },
     "execution_count": 15,
     "metadata": {},
     "output_type": "execute_result"
    }
   ],
   "source": [
    "scores.T.describe()"
   ]
  },
  {
   "attachments": {},
   "cell_type": "markdown",
   "metadata": {},
   "source": [
    "### Sort by rows"
   ]
  },
  {
   "cell_type": "code",
   "execution_count": 17,
   "metadata": {},
   "outputs": [
    {
     "data": {
      "text/html": [
       "<div>\n",
       "<style scoped>\n",
       "    .dataframe tbody tr th:only-of-type {\n",
       "        vertical-align: middle;\n",
       "    }\n",
       "\n",
       "    .dataframe tbody tr th {\n",
       "        vertical-align: top;\n",
       "    }\n",
       "\n",
       "    .dataframe thead th {\n",
       "        text-align: right;\n",
       "    }\n",
       "</style>\n",
       "<table border=\"1\" class=\"dataframe\">\n",
       "  <thead>\n",
       "    <tr style=\"text-align: right;\">\n",
       "      <th></th>\n",
       "      <th>Amanda</th>\n",
       "      <th>Natalie</th>\n",
       "      <th>Jamie</th>\n",
       "      <th>Katie</th>\n",
       "    </tr>\n",
       "  </thead>\n",
       "  <tbody>\n",
       "    <tr>\n",
       "      <th>Vault</th>\n",
       "      <td>9.850</td>\n",
       "      <td>9.825</td>\n",
       "      <td>9.90</td>\n",
       "      <td>9.850</td>\n",
       "    </tr>\n",
       "    <tr>\n",
       "      <th>Floor</th>\n",
       "      <td>9.875</td>\n",
       "      <td>9.900</td>\n",
       "      <td>9.90</td>\n",
       "      <td>9.850</td>\n",
       "    </tr>\n",
       "    <tr>\n",
       "      <th>Beam</th>\n",
       "      <td>9.775</td>\n",
       "      <td>9.850</td>\n",
       "      <td>9.75</td>\n",
       "      <td>9.875</td>\n",
       "    </tr>\n",
       "    <tr>\n",
       "      <th>Bars</th>\n",
       "      <td>9.900</td>\n",
       "      <td>9.850</td>\n",
       "      <td>9.80</td>\n",
       "      <td>9.900</td>\n",
       "    </tr>\n",
       "  </tbody>\n",
       "</table>\n",
       "</div>"
      ],
      "text/plain": [
       "       Amanda  Natalie  Jamie  Katie\n",
       "Vault   9.850    9.825   9.90  9.850\n",
       "Floor   9.875    9.900   9.90  9.850\n",
       "Beam    9.775    9.850   9.75  9.875\n",
       "Bars    9.900    9.850   9.80  9.900"
      ]
     },
     "execution_count": 17,
     "metadata": {},
     "output_type": "execute_result"
    }
   ],
   "source": [
    "scores.sort_index(ascending=False)"
   ]
  },
  {
   "cell_type": "code",
   "execution_count": 18,
   "metadata": {},
   "outputs": [
    {
     "data": {
      "text/html": [
       "<div>\n",
       "<style scoped>\n",
       "    .dataframe tbody tr th:only-of-type {\n",
       "        vertical-align: middle;\n",
       "    }\n",
       "\n",
       "    .dataframe tbody tr th {\n",
       "        vertical-align: top;\n",
       "    }\n",
       "\n",
       "    .dataframe thead th {\n",
       "        text-align: right;\n",
       "    }\n",
       "</style>\n",
       "<table border=\"1\" class=\"dataframe\">\n",
       "  <thead>\n",
       "    <tr style=\"text-align: right;\">\n",
       "      <th></th>\n",
       "      <th>Amanda</th>\n",
       "      <th>Natalie</th>\n",
       "      <th>Jamie</th>\n",
       "      <th>Katie</th>\n",
       "    </tr>\n",
       "  </thead>\n",
       "  <tbody>\n",
       "    <tr>\n",
       "      <th>Bars</th>\n",
       "      <td>9.900</td>\n",
       "      <td>9.850</td>\n",
       "      <td>9.80</td>\n",
       "      <td>9.900</td>\n",
       "    </tr>\n",
       "    <tr>\n",
       "      <th>Beam</th>\n",
       "      <td>9.775</td>\n",
       "      <td>9.850</td>\n",
       "      <td>9.75</td>\n",
       "      <td>9.875</td>\n",
       "    </tr>\n",
       "    <tr>\n",
       "      <th>Floor</th>\n",
       "      <td>9.875</td>\n",
       "      <td>9.900</td>\n",
       "      <td>9.90</td>\n",
       "      <td>9.850</td>\n",
       "    </tr>\n",
       "    <tr>\n",
       "      <th>Vault</th>\n",
       "      <td>9.850</td>\n",
       "      <td>9.825</td>\n",
       "      <td>9.90</td>\n",
       "      <td>9.850</td>\n",
       "    </tr>\n",
       "  </tbody>\n",
       "</table>\n",
       "</div>"
      ],
      "text/plain": [
       "       Amanda  Natalie  Jamie  Katie\n",
       "Bars    9.900    9.850   9.80  9.900\n",
       "Beam    9.775    9.850   9.75  9.875\n",
       "Floor   9.875    9.900   9.90  9.850\n",
       "Vault   9.850    9.825   9.90  9.850"
      ]
     },
     "execution_count": 18,
     "metadata": {},
     "output_type": "execute_result"
    }
   ],
   "source": [
    "scores.sort_index()"
   ]
  },
  {
   "attachments": {},
   "cell_type": "markdown",
   "metadata": {},
   "source": [
    "### Sort by columns"
   ]
  },
  {
   "cell_type": "code",
   "execution_count": 19,
   "metadata": {},
   "outputs": [
    {
     "data": {
      "text/html": [
       "<div>\n",
       "<style scoped>\n",
       "    .dataframe tbody tr th:only-of-type {\n",
       "        vertical-align: middle;\n",
       "    }\n",
       "\n",
       "    .dataframe tbody tr th {\n",
       "        vertical-align: top;\n",
       "    }\n",
       "\n",
       "    .dataframe thead th {\n",
       "        text-align: right;\n",
       "    }\n",
       "</style>\n",
       "<table border=\"1\" class=\"dataframe\">\n",
       "  <thead>\n",
       "    <tr style=\"text-align: right;\">\n",
       "      <th></th>\n",
       "      <th>Amanda</th>\n",
       "      <th>Jamie</th>\n",
       "      <th>Katie</th>\n",
       "      <th>Natalie</th>\n",
       "    </tr>\n",
       "  </thead>\n",
       "  <tbody>\n",
       "    <tr>\n",
       "      <th>Vault</th>\n",
       "      <td>9.850</td>\n",
       "      <td>9.90</td>\n",
       "      <td>9.850</td>\n",
       "      <td>9.825</td>\n",
       "    </tr>\n",
       "    <tr>\n",
       "      <th>Bars</th>\n",
       "      <td>9.900</td>\n",
       "      <td>9.80</td>\n",
       "      <td>9.900</td>\n",
       "      <td>9.850</td>\n",
       "    </tr>\n",
       "    <tr>\n",
       "      <th>Beam</th>\n",
       "      <td>9.775</td>\n",
       "      <td>9.75</td>\n",
       "      <td>9.875</td>\n",
       "      <td>9.850</td>\n",
       "    </tr>\n",
       "    <tr>\n",
       "      <th>Floor</th>\n",
       "      <td>9.875</td>\n",
       "      <td>9.90</td>\n",
       "      <td>9.850</td>\n",
       "      <td>9.900</td>\n",
       "    </tr>\n",
       "  </tbody>\n",
       "</table>\n",
       "</div>"
      ],
      "text/plain": [
       "       Amanda  Jamie  Katie  Natalie\n",
       "Vault   9.850   9.90  9.850    9.825\n",
       "Bars    9.900   9.80  9.900    9.850\n",
       "Beam    9.775   9.75  9.875    9.850\n",
       "Floor   9.875   9.90  9.850    9.900"
      ]
     },
     "execution_count": 19,
     "metadata": {},
     "output_type": "execute_result"
    }
   ],
   "source": [
    "scores.sort_index(axis=1)"
   ]
  },
  {
   "cell_type": "code",
   "execution_count": 20,
   "metadata": {},
   "outputs": [
    {
     "data": {
      "text/html": [
       "<div>\n",
       "<style scoped>\n",
       "    .dataframe tbody tr th:only-of-type {\n",
       "        vertical-align: middle;\n",
       "    }\n",
       "\n",
       "    .dataframe tbody tr th {\n",
       "        vertical-align: top;\n",
       "    }\n",
       "\n",
       "    .dataframe thead th {\n",
       "        text-align: right;\n",
       "    }\n",
       "</style>\n",
       "<table border=\"1\" class=\"dataframe\">\n",
       "  <thead>\n",
       "    <tr style=\"text-align: right;\">\n",
       "      <th></th>\n",
       "      <th>Natalie</th>\n",
       "      <th>Katie</th>\n",
       "      <th>Jamie</th>\n",
       "      <th>Amanda</th>\n",
       "    </tr>\n",
       "  </thead>\n",
       "  <tbody>\n",
       "    <tr>\n",
       "      <th>Vault</th>\n",
       "      <td>9.825</td>\n",
       "      <td>9.850</td>\n",
       "      <td>9.90</td>\n",
       "      <td>9.850</td>\n",
       "    </tr>\n",
       "    <tr>\n",
       "      <th>Bars</th>\n",
       "      <td>9.850</td>\n",
       "      <td>9.900</td>\n",
       "      <td>9.80</td>\n",
       "      <td>9.900</td>\n",
       "    </tr>\n",
       "    <tr>\n",
       "      <th>Beam</th>\n",
       "      <td>9.850</td>\n",
       "      <td>9.875</td>\n",
       "      <td>9.75</td>\n",
       "      <td>9.775</td>\n",
       "    </tr>\n",
       "    <tr>\n",
       "      <th>Floor</th>\n",
       "      <td>9.900</td>\n",
       "      <td>9.850</td>\n",
       "      <td>9.90</td>\n",
       "      <td>9.875</td>\n",
       "    </tr>\n",
       "  </tbody>\n",
       "</table>\n",
       "</div>"
      ],
      "text/plain": [
       "       Natalie  Katie  Jamie  Amanda\n",
       "Vault    9.825  9.850   9.90   9.850\n",
       "Bars     9.850  9.900   9.80   9.900\n",
       "Beam     9.850  9.875   9.75   9.775\n",
       "Floor    9.900  9.850   9.90   9.875"
      ]
     },
     "execution_count": 20,
     "metadata": {},
     "output_type": "execute_result"
    }
   ],
   "source": [
    "scores.sort_index(axis=1, ascending=False)"
   ]
  }
 ],
 "metadata": {
  "kernelspec": {
   "display_name": "base",
   "language": "python",
   "name": "python3"
  },
  "language_info": {
   "codemirror_mode": {
    "name": "ipython",
    "version": 3
   },
   "file_extension": ".py",
   "mimetype": "text/x-python",
   "name": "python",
   "nbconvert_exporter": "python",
   "pygments_lexer": "ipython3",
   "version": "3.8.16"
  },
  "orig_nbformat": 4,
  "vscode": {
   "interpreter": {
    "hash": "833598fd57254e80696e56fdf22b0bd22a65cc71ed2edfbdcc902e21d461d368"
   }
  }
 },
 "nbformat": 4,
 "nbformat_minor": 2
}
